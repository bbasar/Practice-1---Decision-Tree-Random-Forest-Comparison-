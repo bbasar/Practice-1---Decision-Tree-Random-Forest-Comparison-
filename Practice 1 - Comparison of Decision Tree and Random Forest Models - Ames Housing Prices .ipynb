{
 "cells": [
  {
   "cell_type": "markdown",
   "id": "144162b1",
   "metadata": {},
   "source": [
    "# Ames Housing Prices"
   ]
  },
  {
   "cell_type": "markdown",
   "id": "4f2351db",
   "metadata": {},
   "source": [
    "### Comparison of the Decision Tree and Random Forest Models utilizing Ames Housing Prices Data\n",
    "\n",
    "#### Data available at: https://www.kaggle.com/marcopale/housing?select=AmesHousing.csv"
   ]
  },
  {
   "cell_type": "code",
   "execution_count": 2,
   "id": "b1fa6cb2",
   "metadata": {},
   "outputs": [],
   "source": [
    "# Pulling Python libraries\n",
    "\n",
    "import numpy as np \n",
    "import pandas as pd\n",
    "import matplotlib.pyplot as plt\n",
    "\n",
    "df = pd.read_csv('AmesHousing.csv')"
   ]
  },
  {
   "cell_type": "markdown",
   "id": "aac9b1b9",
   "metadata": {},
   "source": [
    "## Exploratory Analysis"
   ]
  },
  {
   "cell_type": "code",
   "execution_count": 3,
   "id": "c3b5e400",
   "metadata": {},
   "outputs": [
    {
     "data": {
      "text/plain": [
       "2930"
      ]
     },
     "execution_count": 3,
     "metadata": {},
     "output_type": "execute_result"
    }
   ],
   "source": [
    "len(df.index)"
   ]
  },
  {
   "cell_type": "code",
   "execution_count": 4,
   "id": "27954fc1",
   "metadata": {
    "scrolled": true
   },
   "outputs": [
    {
     "data": {
      "text/plain": [
       "Index(['Order', 'PID', 'MS SubClass', 'MS Zoning', 'Lot Frontage', 'Lot Area',\n",
       "       'Street', 'Alley', 'Lot Shape', 'Land Contour', 'Utilities',\n",
       "       'Lot Config', 'Land Slope', 'Neighborhood', 'Condition 1',\n",
       "       'Condition 2', 'Bldg Type', 'House Style', 'Overall Qual',\n",
       "       'Overall Cond', 'Year Built', 'Year Remod/Add', 'Roof Style',\n",
       "       'Roof Matl', 'Exterior 1st', 'Exterior 2nd', 'Mas Vnr Type',\n",
       "       'Mas Vnr Area', 'Exter Qual', 'Exter Cond', 'Foundation', 'Bsmt Qual',\n",
       "       'Bsmt Cond', 'Bsmt Exposure', 'BsmtFin Type 1', 'BsmtFin SF 1',\n",
       "       'BsmtFin Type 2', 'BsmtFin SF 2', 'Bsmt Unf SF', 'Total Bsmt SF',\n",
       "       'Heating', 'Heating QC', 'Central Air', 'Electrical', '1st Flr SF',\n",
       "       '2nd Flr SF', 'Low Qual Fin SF', 'Gr Liv Area', 'Bsmt Full Bath',\n",
       "       'Bsmt Half Bath', 'Full Bath', 'Half Bath', 'Bedroom AbvGr',\n",
       "       'Kitchen AbvGr', 'Kitchen Qual', 'TotRms AbvGrd', 'Functional',\n",
       "       'Fireplaces', 'Fireplace Qu', 'Garage Type', 'Garage Yr Blt',\n",
       "       'Garage Finish', 'Garage Cars', 'Garage Area', 'Garage Qual',\n",
       "       'Garage Cond', 'Paved Drive', 'Wood Deck SF', 'Open Porch SF',\n",
       "       'Enclosed Porch', '3Ssn Porch', 'Screen Porch', 'Pool Area', 'Pool QC',\n",
       "       'Fence', 'Misc Feature', 'Misc Val', 'Mo Sold', 'Yr Sold', 'Sale Type',\n",
       "       'Sale Condition', 'SalePrice'],\n",
       "      dtype='object')"
      ]
     },
     "execution_count": 4,
     "metadata": {},
     "output_type": "execute_result"
    }
   ],
   "source": [
    "df.columns"
   ]
  },
  {
   "cell_type": "code",
   "execution_count": 5,
   "id": "0fe01d09",
   "metadata": {},
   "outputs": [],
   "source": [
    "df.columns = [c.replace(' ', '_') for c in df.columns]"
   ]
  },
  {
   "cell_type": "code",
   "execution_count": 6,
   "id": "e35d8e76",
   "metadata": {},
   "outputs": [
    {
     "data": {
      "text/plain": [
       "Index(['Order', 'PID', 'MS_SubClass', 'MS_Zoning', 'Lot_Frontage', 'Lot_Area',\n",
       "       'Street', 'Alley', 'Lot_Shape', 'Land_Contour', 'Utilities',\n",
       "       'Lot_Config', 'Land_Slope', 'Neighborhood', 'Condition_1',\n",
       "       'Condition_2', 'Bldg_Type', 'House_Style', 'Overall_Qual',\n",
       "       'Overall_Cond', 'Year_Built', 'Year_Remod/Add', 'Roof_Style',\n",
       "       'Roof_Matl', 'Exterior_1st', 'Exterior_2nd', 'Mas_Vnr_Type',\n",
       "       'Mas_Vnr_Area', 'Exter_Qual', 'Exter_Cond', 'Foundation', 'Bsmt_Qual',\n",
       "       'Bsmt_Cond', 'Bsmt_Exposure', 'BsmtFin_Type_1', 'BsmtFin_SF_1',\n",
       "       'BsmtFin_Type_2', 'BsmtFin_SF_2', 'Bsmt_Unf_SF', 'Total_Bsmt_SF',\n",
       "       'Heating', 'Heating_QC', 'Central_Air', 'Electrical', '1st_Flr_SF',\n",
       "       '2nd_Flr_SF', 'Low_Qual_Fin_SF', 'Gr_Liv_Area', 'Bsmt_Full_Bath',\n",
       "       'Bsmt_Half_Bath', 'Full_Bath', 'Half_Bath', 'Bedroom_AbvGr',\n",
       "       'Kitchen_AbvGr', 'Kitchen_Qual', 'TotRms_AbvGrd', 'Functional',\n",
       "       'Fireplaces', 'Fireplace_Qu', 'Garage_Type', 'Garage_Yr_Blt',\n",
       "       'Garage_Finish', 'Garage_Cars', 'Garage_Area', 'Garage_Qual',\n",
       "       'Garage_Cond', 'Paved_Drive', 'Wood_Deck_SF', 'Open_Porch_SF',\n",
       "       'Enclosed_Porch', '3Ssn_Porch', 'Screen_Porch', 'Pool_Area', 'Pool_QC',\n",
       "       'Fence', 'Misc_Feature', 'Misc_Val', 'Mo_Sold', 'Yr_Sold', 'Sale_Type',\n",
       "       'Sale_Condition', 'SalePrice'],\n",
       "      dtype='object')"
      ]
     },
     "execution_count": 6,
     "metadata": {},
     "output_type": "execute_result"
    }
   ],
   "source": [
    "df.columns"
   ]
  },
  {
   "cell_type": "code",
   "execution_count": 7,
   "id": "b071c067",
   "metadata": {},
   "outputs": [
    {
     "data": {
      "text/html": [
       "<div>\n",
       "<style scoped>\n",
       "    .dataframe tbody tr th:only-of-type {\n",
       "        vertical-align: middle;\n",
       "    }\n",
       "\n",
       "    .dataframe tbody tr th {\n",
       "        vertical-align: top;\n",
       "    }\n",
       "\n",
       "    .dataframe thead th {\n",
       "        text-align: right;\n",
       "    }\n",
       "</style>\n",
       "<table border=\"1\" class=\"dataframe\">\n",
       "  <thead>\n",
       "    <tr style=\"text-align: right;\">\n",
       "      <th></th>\n",
       "      <th>Order</th>\n",
       "      <th>PID</th>\n",
       "      <th>MS_SubClass</th>\n",
       "      <th>MS_Zoning</th>\n",
       "      <th>Lot_Frontage</th>\n",
       "      <th>Lot_Area</th>\n",
       "      <th>Street</th>\n",
       "      <th>Alley</th>\n",
       "      <th>Lot_Shape</th>\n",
       "      <th>Land_Contour</th>\n",
       "      <th>...</th>\n",
       "      <th>Pool_Area</th>\n",
       "      <th>Pool_QC</th>\n",
       "      <th>Fence</th>\n",
       "      <th>Misc_Feature</th>\n",
       "      <th>Misc_Val</th>\n",
       "      <th>Mo_Sold</th>\n",
       "      <th>Yr_Sold</th>\n",
       "      <th>Sale_Type</th>\n",
       "      <th>Sale_Condition</th>\n",
       "      <th>SalePrice</th>\n",
       "    </tr>\n",
       "  </thead>\n",
       "  <tbody>\n",
       "    <tr>\n",
       "      <th>0</th>\n",
       "      <td>1</td>\n",
       "      <td>526301100</td>\n",
       "      <td>20</td>\n",
       "      <td>RL</td>\n",
       "      <td>141.0</td>\n",
       "      <td>31770</td>\n",
       "      <td>Pave</td>\n",
       "      <td>NaN</td>\n",
       "      <td>IR1</td>\n",
       "      <td>Lvl</td>\n",
       "      <td>...</td>\n",
       "      <td>0</td>\n",
       "      <td>NaN</td>\n",
       "      <td>NaN</td>\n",
       "      <td>NaN</td>\n",
       "      <td>0</td>\n",
       "      <td>5</td>\n",
       "      <td>2010</td>\n",
       "      <td>WD</td>\n",
       "      <td>Normal</td>\n",
       "      <td>215000</td>\n",
       "    </tr>\n",
       "    <tr>\n",
       "      <th>1</th>\n",
       "      <td>2</td>\n",
       "      <td>526350040</td>\n",
       "      <td>20</td>\n",
       "      <td>RH</td>\n",
       "      <td>80.0</td>\n",
       "      <td>11622</td>\n",
       "      <td>Pave</td>\n",
       "      <td>NaN</td>\n",
       "      <td>Reg</td>\n",
       "      <td>Lvl</td>\n",
       "      <td>...</td>\n",
       "      <td>0</td>\n",
       "      <td>NaN</td>\n",
       "      <td>MnPrv</td>\n",
       "      <td>NaN</td>\n",
       "      <td>0</td>\n",
       "      <td>6</td>\n",
       "      <td>2010</td>\n",
       "      <td>WD</td>\n",
       "      <td>Normal</td>\n",
       "      <td>105000</td>\n",
       "    </tr>\n",
       "    <tr>\n",
       "      <th>2</th>\n",
       "      <td>3</td>\n",
       "      <td>526351010</td>\n",
       "      <td>20</td>\n",
       "      <td>RL</td>\n",
       "      <td>81.0</td>\n",
       "      <td>14267</td>\n",
       "      <td>Pave</td>\n",
       "      <td>NaN</td>\n",
       "      <td>IR1</td>\n",
       "      <td>Lvl</td>\n",
       "      <td>...</td>\n",
       "      <td>0</td>\n",
       "      <td>NaN</td>\n",
       "      <td>NaN</td>\n",
       "      <td>Gar2</td>\n",
       "      <td>12500</td>\n",
       "      <td>6</td>\n",
       "      <td>2010</td>\n",
       "      <td>WD</td>\n",
       "      <td>Normal</td>\n",
       "      <td>172000</td>\n",
       "    </tr>\n",
       "    <tr>\n",
       "      <th>3</th>\n",
       "      <td>4</td>\n",
       "      <td>526353030</td>\n",
       "      <td>20</td>\n",
       "      <td>RL</td>\n",
       "      <td>93.0</td>\n",
       "      <td>11160</td>\n",
       "      <td>Pave</td>\n",
       "      <td>NaN</td>\n",
       "      <td>Reg</td>\n",
       "      <td>Lvl</td>\n",
       "      <td>...</td>\n",
       "      <td>0</td>\n",
       "      <td>NaN</td>\n",
       "      <td>NaN</td>\n",
       "      <td>NaN</td>\n",
       "      <td>0</td>\n",
       "      <td>4</td>\n",
       "      <td>2010</td>\n",
       "      <td>WD</td>\n",
       "      <td>Normal</td>\n",
       "      <td>244000</td>\n",
       "    </tr>\n",
       "    <tr>\n",
       "      <th>4</th>\n",
       "      <td>5</td>\n",
       "      <td>527105010</td>\n",
       "      <td>60</td>\n",
       "      <td>RL</td>\n",
       "      <td>74.0</td>\n",
       "      <td>13830</td>\n",
       "      <td>Pave</td>\n",
       "      <td>NaN</td>\n",
       "      <td>IR1</td>\n",
       "      <td>Lvl</td>\n",
       "      <td>...</td>\n",
       "      <td>0</td>\n",
       "      <td>NaN</td>\n",
       "      <td>MnPrv</td>\n",
       "      <td>NaN</td>\n",
       "      <td>0</td>\n",
       "      <td>3</td>\n",
       "      <td>2010</td>\n",
       "      <td>WD</td>\n",
       "      <td>Normal</td>\n",
       "      <td>189900</td>\n",
       "    </tr>\n",
       "  </tbody>\n",
       "</table>\n",
       "<p>5 rows × 82 columns</p>\n",
       "</div>"
      ],
      "text/plain": [
       "   Order        PID  MS_SubClass MS_Zoning  Lot_Frontage  Lot_Area Street  \\\n",
       "0      1  526301100           20        RL         141.0     31770   Pave   \n",
       "1      2  526350040           20        RH          80.0     11622   Pave   \n",
       "2      3  526351010           20        RL          81.0     14267   Pave   \n",
       "3      4  526353030           20        RL          93.0     11160   Pave   \n",
       "4      5  527105010           60        RL          74.0     13830   Pave   \n",
       "\n",
       "  Alley Lot_Shape Land_Contour  ... Pool_Area Pool_QC  Fence Misc_Feature  \\\n",
       "0   NaN       IR1          Lvl  ...         0     NaN    NaN          NaN   \n",
       "1   NaN       Reg          Lvl  ...         0     NaN  MnPrv          NaN   \n",
       "2   NaN       IR1          Lvl  ...         0     NaN    NaN         Gar2   \n",
       "3   NaN       Reg          Lvl  ...         0     NaN    NaN          NaN   \n",
       "4   NaN       IR1          Lvl  ...         0     NaN  MnPrv          NaN   \n",
       "\n",
       "  Misc_Val Mo_Sold Yr_Sold Sale_Type  Sale_Condition  SalePrice  \n",
       "0        0       5    2010       WD           Normal     215000  \n",
       "1        0       6    2010       WD           Normal     105000  \n",
       "2    12500       6    2010       WD           Normal     172000  \n",
       "3        0       4    2010       WD           Normal     244000  \n",
       "4        0       3    2010       WD           Normal     189900  \n",
       "\n",
       "[5 rows x 82 columns]"
      ]
     },
     "execution_count": 7,
     "metadata": {},
     "output_type": "execute_result"
    }
   ],
   "source": [
    "df.head()"
   ]
  },
  {
   "cell_type": "code",
   "execution_count": 8,
   "id": "cc7f0501",
   "metadata": {},
   "outputs": [
    {
     "name": "stdout",
     "output_type": "stream",
     "text": [
      "Lot_Frontage       490\n",
      "Alley             2732\n",
      "Mas_Vnr_Type        23\n",
      "Mas_Vnr_Area        23\n",
      "Bsmt_Qual           80\n",
      "Bsmt_Cond           80\n",
      "Bsmt_Exposure       83\n",
      "BsmtFin_Type_1      80\n",
      "BsmtFin_SF_1         1\n",
      "BsmtFin_Type_2      81\n",
      "BsmtFin_SF_2         1\n",
      "Bsmt_Unf_SF          1\n",
      "Total_Bsmt_SF        1\n",
      "Electrical           1\n",
      "Bsmt_Full_Bath       2\n",
      "Bsmt_Half_Bath       2\n",
      "Fireplace_Qu      1422\n",
      "Garage_Type        157\n",
      "Garage_Yr_Blt      159\n",
      "Garage_Finish      159\n",
      "Garage_Cars          1\n",
      "Garage_Area          1\n",
      "Garage_Qual        159\n",
      "Garage_Cond        159\n",
      "Pool_QC           2917\n",
      "Fence             2358\n",
      "Misc_Feature      2824\n",
      "dtype: int64\n"
     ]
    }
   ],
   "source": [
    "# Checking missing values\n",
    "\n",
    "missing_val_count_by_column = (df.isnull().sum())\n",
    "print(missing_val_count_by_column[missing_val_count_by_column>0])"
   ]
  },
  {
   "cell_type": "code",
   "execution_count": 10,
   "id": "942e1b89",
   "metadata": {},
   "outputs": [
    {
     "data": {
      "text/plain": [
       "<AxesSubplot:>"
      ]
     },
     "execution_count": 10,
     "metadata": {},
     "output_type": "execute_result"
    },
    {
     "data": {
      "image/png": "[encoded data removed]",
      "text/plain": [
       "<Figure size 720x360 with 2 Axes>"
      ]
     },
     "metadata": {
      "needs_background": "light"
     },
     "output_type": "display_data"
    }
   ],
   "source": [
    "# Creating boxplots to see outliers and distribution\n",
    "\n",
    "fig, ax = plt.subplots(1, 2, figsize=(10, 5))\n",
    "df.boxplot(column= [\"SalePrice\"], ax=ax[0])\n",
    "df.boxplot(column= [\"Year_Built\"], ax=ax[1])"
   ]
  },
  {
   "cell_type": "code",
   "execution_count": 11,
   "id": "5666d3ca",
   "metadata": {},
   "outputs": [
    {
     "data": {
      "text/plain": [
       "<AxesSubplot:>"
      ]
     },
     "execution_count": 11,
     "metadata": {},
     "output_type": "execute_result"
    },
    {
     "data": {
      "image/png": "[encoded data removed]",
      "text/plain": [
       "<Figure size 432x288 with 1 Axes>"
      ]
     },
     "metadata": {
      "needs_background": "light"
     },
     "output_type": "display_data"
    }
   ],
   "source": [
    "df.boxplot(column=[\"Bedroom_AbvGr\", \"Full_Bath\", \"Fireplaces\"])"
   ]
  },
  {
   "cell_type": "code",
   "execution_count": 12,
   "id": "e1eb7ed3",
   "metadata": {},
   "outputs": [
    {
     "data": {
      "text/plain": [
       "<AxesSubplot:>"
      ]
     },
     "execution_count": 12,
     "metadata": {},
     "output_type": "execute_result"
    },
    {
     "data": {
      "image/png": "[encoded data removed]",
      "text/plain": [
       "<Figure size 720x360 with 2 Axes>"
      ]
     },
     "metadata": {
      "needs_background": "light"
     },
     "output_type": "display_data"
    }
   ],
   "source": [
    "fig, ax = plt.subplots(1, 2, figsize=(10, 5))\n",
    "df.boxplot(column= [\"1st_Flr_SF\"], ax=ax[0])\n",
    "df.boxplot(column= [\"2nd_Flr_SF\"], ax=ax[1])"
   ]
  },
  {
   "cell_type": "code",
   "execution_count": 13,
   "id": "ac497a1b",
   "metadata": {},
   "outputs": [
    {
     "data": {
      "text/plain": [
       "<AxesSubplot:>"
      ]
     },
     "execution_count": 13,
     "metadata": {},
     "output_type": "execute_result"
    },
    {
     "data": {
      "image/png": "[encoded data removed]",
      "text/plain": [
       "<Figure size 720x360 with 2 Axes>"
      ]
     },
     "metadata": {
      "needs_background": "light"
     },
     "output_type": "display_data"
    }
   ],
   "source": [
    "fig, ax = plt.subplots(1, 2, figsize=(10, 5))\n",
    "df.boxplot(column= ['Overall_Qual'], ax=ax[0])\n",
    "df.boxplot(column= ['Overall_Cond'], ax=ax[1])"
   ]
  },
  {
   "cell_type": "code",
   "execution_count": 14,
   "id": "1c93c2b1",
   "metadata": {},
   "outputs": [
    {
     "data": {
      "text/plain": [
       "<AxesSubplot:>"
      ]
     },
     "execution_count": 14,
     "metadata": {},
     "output_type": "execute_result"
    },
    {
     "data": {
      "image/png": "[encoded data removed]",
      "text/plain": [
       "<Figure size 432x288 with 1 Axes>"
      ]
     },
     "metadata": {
      "needs_background": "light"
     },
     "output_type": "display_data"
    }
   ],
   "source": [
    "df.boxplot(column=[\"Lot_Area\"])"
   ]
  },
  {
   "cell_type": "markdown",
   "id": "e28a83a8",
   "metadata": {},
   "source": [
    "## Defining the target and features"
   ]
  },
  {
   "cell_type": "code",
   "execution_count": 15,
   "id": "209395ef",
   "metadata": {},
   "outputs": [],
   "source": [
    "y = df.SalePrice"
   ]
  },
  {
   "cell_type": "code",
   "execution_count": 16,
   "id": "530f5c99",
   "metadata": {},
   "outputs": [
    {
     "name": "stdout",
     "output_type": "stream",
     "text": [
      "0       215000\n",
      "1       105000\n",
      "2       172000\n",
      "3       244000\n",
      "4       189900\n",
      "         ...  \n",
      "2925    142500\n",
      "2926    131000\n",
      "2927    132000\n",
      "2928    170000\n",
      "2929    188000\n",
      "Name: SalePrice, Length: 2930, dtype: int64\n"
     ]
    }
   ],
   "source": [
    "print(y)"
   ]
  },
  {
   "cell_type": "code",
   "execution_count": 17,
   "id": "895db2e0",
   "metadata": {},
   "outputs": [
    {
     "data": {
      "text/html": [
       "<div>\n",
       "<style scoped>\n",
       "    .dataframe tbody tr th:only-of-type {\n",
       "        vertical-align: middle;\n",
       "    }\n",
       "\n",
       "    .dataframe tbody tr th {\n",
       "        vertical-align: top;\n",
       "    }\n",
       "\n",
       "    .dataframe thead th {\n",
       "        text-align: right;\n",
       "    }\n",
       "</style>\n",
       "<table border=\"1\" class=\"dataframe\">\n",
       "  <thead>\n",
       "    <tr style=\"text-align: right;\">\n",
       "      <th></th>\n",
       "      <th>Fireplaces</th>\n",
       "      <th>Overall_Cond</th>\n",
       "      <th>Lot_Area</th>\n",
       "      <th>Year_Built</th>\n",
       "      <th>1st_Flr_SF</th>\n",
       "      <th>2nd_Flr_SF</th>\n",
       "      <th>Full_Bath</th>\n",
       "      <th>Bedroom_AbvGr</th>\n",
       "      <th>Overall_Qual</th>\n",
       "    </tr>\n",
       "  </thead>\n",
       "  <tbody>\n",
       "    <tr>\n",
       "      <th>0</th>\n",
       "      <td>2</td>\n",
       "      <td>5</td>\n",
       "      <td>31770</td>\n",
       "      <td>1960</td>\n",
       "      <td>1656</td>\n",
       "      <td>0</td>\n",
       "      <td>1</td>\n",
       "      <td>3</td>\n",
       "      <td>6</td>\n",
       "    </tr>\n",
       "    <tr>\n",
       "      <th>1</th>\n",
       "      <td>0</td>\n",
       "      <td>6</td>\n",
       "      <td>11622</td>\n",
       "      <td>1961</td>\n",
       "      <td>896</td>\n",
       "      <td>0</td>\n",
       "      <td>1</td>\n",
       "      <td>2</td>\n",
       "      <td>5</td>\n",
       "    </tr>\n",
       "    <tr>\n",
       "      <th>2</th>\n",
       "      <td>0</td>\n",
       "      <td>6</td>\n",
       "      <td>14267</td>\n",
       "      <td>1958</td>\n",
       "      <td>1329</td>\n",
       "      <td>0</td>\n",
       "      <td>1</td>\n",
       "      <td>3</td>\n",
       "      <td>6</td>\n",
       "    </tr>\n",
       "    <tr>\n",
       "      <th>3</th>\n",
       "      <td>2</td>\n",
       "      <td>5</td>\n",
       "      <td>11160</td>\n",
       "      <td>1968</td>\n",
       "      <td>2110</td>\n",
       "      <td>0</td>\n",
       "      <td>2</td>\n",
       "      <td>3</td>\n",
       "      <td>7</td>\n",
       "    </tr>\n",
       "    <tr>\n",
       "      <th>4</th>\n",
       "      <td>1</td>\n",
       "      <td>5</td>\n",
       "      <td>13830</td>\n",
       "      <td>1997</td>\n",
       "      <td>928</td>\n",
       "      <td>701</td>\n",
       "      <td>2</td>\n",
       "      <td>3</td>\n",
       "      <td>5</td>\n",
       "    </tr>\n",
       "  </tbody>\n",
       "</table>\n",
       "</div>"
      ],
      "text/plain": [
       "   Fireplaces  Overall_Cond  Lot_Area  Year_Built  1st_Flr_SF  2nd_Flr_SF  \\\n",
       "0           2             5     31770        1960        1656           0   \n",
       "1           0             6     11622        1961         896           0   \n",
       "2           0             6     14267        1958        1329           0   \n",
       "3           2             5     11160        1968        2110           0   \n",
       "4           1             5     13830        1997         928         701   \n",
       "\n",
       "   Full_Bath  Bedroom_AbvGr  Overall_Qual  \n",
       "0          1              3             6  \n",
       "1          1              2             5  \n",
       "2          1              3             6  \n",
       "3          2              3             7  \n",
       "4          2              3             5  "
      ]
     },
     "execution_count": 17,
     "metadata": {},
     "output_type": "execute_result"
    }
   ],
   "source": [
    "# Creating the list of features\n",
    "feature_names = ['Fireplaces','Overall_Cond', 'Lot_Area','Year_Built', '1st_Flr_SF', \n",
    "    '2nd_Flr_SF', 'Full_Bath', 'Bedroom_AbvGr', 'Overall_Qual']\n",
    "\n",
    "# Selecting data corresponding to features in feature_names\n",
    "X = df[feature_names]\n",
    "\n",
    "X.head()"
   ]
  },
  {
   "cell_type": "code",
   "execution_count": 18,
   "id": "1eea9d7a",
   "metadata": {},
   "outputs": [
    {
     "data": {
      "text/html": [
       "<div>\n",
       "<style scoped>\n",
       "    .dataframe tbody tr th:only-of-type {\n",
       "        vertical-align: middle;\n",
       "    }\n",
       "\n",
       "    .dataframe tbody tr th {\n",
       "        vertical-align: top;\n",
       "    }\n",
       "\n",
       "    .dataframe thead th {\n",
       "        text-align: right;\n",
       "    }\n",
       "</style>\n",
       "<table border=\"1\" class=\"dataframe\">\n",
       "  <thead>\n",
       "    <tr style=\"text-align: right;\">\n",
       "      <th></th>\n",
       "      <th>Fireplaces</th>\n",
       "      <th>Overall_Cond</th>\n",
       "      <th>Lot_Area</th>\n",
       "      <th>Year_Built</th>\n",
       "      <th>1st_Flr_SF</th>\n",
       "      <th>2nd_Flr_SF</th>\n",
       "      <th>Full_Bath</th>\n",
       "      <th>Bedroom_AbvGr</th>\n",
       "      <th>Overall_Qual</th>\n",
       "    </tr>\n",
       "  </thead>\n",
       "  <tbody>\n",
       "    <tr>\n",
       "      <th>count</th>\n",
       "      <td>2930.000000</td>\n",
       "      <td>2930.000000</td>\n",
       "      <td>2930.000000</td>\n",
       "      <td>2930.000000</td>\n",
       "      <td>2930.000000</td>\n",
       "      <td>2930.000000</td>\n",
       "      <td>2930.000000</td>\n",
       "      <td>2930.000000</td>\n",
       "      <td>2930.000000</td>\n",
       "    </tr>\n",
       "    <tr>\n",
       "      <th>mean</th>\n",
       "      <td>0.599317</td>\n",
       "      <td>5.563140</td>\n",
       "      <td>10147.921843</td>\n",
       "      <td>1971.356314</td>\n",
       "      <td>1159.557679</td>\n",
       "      <td>335.455973</td>\n",
       "      <td>1.566553</td>\n",
       "      <td>2.854266</td>\n",
       "      <td>6.094881</td>\n",
       "    </tr>\n",
       "    <tr>\n",
       "      <th>std</th>\n",
       "      <td>0.647921</td>\n",
       "      <td>1.111537</td>\n",
       "      <td>7880.017759</td>\n",
       "      <td>30.245361</td>\n",
       "      <td>391.890885</td>\n",
       "      <td>428.395715</td>\n",
       "      <td>0.552941</td>\n",
       "      <td>0.827731</td>\n",
       "      <td>1.411026</td>\n",
       "    </tr>\n",
       "    <tr>\n",
       "      <th>min</th>\n",
       "      <td>0.000000</td>\n",
       "      <td>1.000000</td>\n",
       "      <td>1300.000000</td>\n",
       "      <td>1872.000000</td>\n",
       "      <td>334.000000</td>\n",
       "      <td>0.000000</td>\n",
       "      <td>0.000000</td>\n",
       "      <td>0.000000</td>\n",
       "      <td>1.000000</td>\n",
       "    </tr>\n",
       "    <tr>\n",
       "      <th>25%</th>\n",
       "      <td>0.000000</td>\n",
       "      <td>5.000000</td>\n",
       "      <td>7440.250000</td>\n",
       "      <td>1954.000000</td>\n",
       "      <td>876.250000</td>\n",
       "      <td>0.000000</td>\n",
       "      <td>1.000000</td>\n",
       "      <td>2.000000</td>\n",
       "      <td>5.000000</td>\n",
       "    </tr>\n",
       "    <tr>\n",
       "      <th>50%</th>\n",
       "      <td>1.000000</td>\n",
       "      <td>5.000000</td>\n",
       "      <td>9436.500000</td>\n",
       "      <td>1973.000000</td>\n",
       "      <td>1084.000000</td>\n",
       "      <td>0.000000</td>\n",
       "      <td>2.000000</td>\n",
       "      <td>3.000000</td>\n",
       "      <td>6.000000</td>\n",
       "    </tr>\n",
       "    <tr>\n",
       "      <th>75%</th>\n",
       "      <td>1.000000</td>\n",
       "      <td>6.000000</td>\n",
       "      <td>11555.250000</td>\n",
       "      <td>2001.000000</td>\n",
       "      <td>1384.000000</td>\n",
       "      <td>703.750000</td>\n",
       "      <td>2.000000</td>\n",
       "      <td>3.000000</td>\n",
       "      <td>7.000000</td>\n",
       "    </tr>\n",
       "    <tr>\n",
       "      <th>max</th>\n",
       "      <td>4.000000</td>\n",
       "      <td>9.000000</td>\n",
       "      <td>215245.000000</td>\n",
       "      <td>2010.000000</td>\n",
       "      <td>5095.000000</td>\n",
       "      <td>2065.000000</td>\n",
       "      <td>4.000000</td>\n",
       "      <td>8.000000</td>\n",
       "      <td>10.000000</td>\n",
       "    </tr>\n",
       "  </tbody>\n",
       "</table>\n",
       "</div>"
      ],
      "text/plain": [
       "        Fireplaces  Overall_Cond       Lot_Area   Year_Built   1st_Flr_SF  \\\n",
       "count  2930.000000   2930.000000    2930.000000  2930.000000  2930.000000   \n",
       "mean      0.599317      5.563140   10147.921843  1971.356314  1159.557679   \n",
       "std       0.647921      1.111537    7880.017759    30.245361   391.890885   \n",
       "min       0.000000      1.000000    1300.000000  1872.000000   334.000000   \n",
       "25%       0.000000      5.000000    7440.250000  1954.000000   876.250000   \n",
       "50%       1.000000      5.000000    9436.500000  1973.000000  1084.000000   \n",
       "75%       1.000000      6.000000   11555.250000  2001.000000  1384.000000   \n",
       "max       4.000000      9.000000  215245.000000  2010.000000  5095.000000   \n",
       "\n",
       "        2nd_Flr_SF    Full_Bath  Bedroom_AbvGr  Overall_Qual  \n",
       "count  2930.000000  2930.000000    2930.000000   2930.000000  \n",
       "mean    335.455973     1.566553       2.854266      6.094881  \n",
       "std     428.395715     0.552941       0.827731      1.411026  \n",
       "min       0.000000     0.000000       0.000000      1.000000  \n",
       "25%       0.000000     1.000000       2.000000      5.000000  \n",
       "50%       0.000000     2.000000       3.000000      6.000000  \n",
       "75%     703.750000     2.000000       3.000000      7.000000  \n",
       "max    2065.000000     4.000000       8.000000     10.000000  "
      ]
     },
     "execution_count": 18,
     "metadata": {},
     "output_type": "execute_result"
    }
   ],
   "source": [
    "X.describe()"
   ]
  },
  {
   "cell_type": "markdown",
   "id": "460187dc",
   "metadata": {},
   "source": [
    "# Splitting data into train and validation data"
   ]
  },
  {
   "cell_type": "code",
   "execution_count": 19,
   "id": "03bdaf1a",
   "metadata": {},
   "outputs": [],
   "source": [
    "from sklearn.model_selection import train_test_split\n",
    "train_X, val_X, train_y, val_y = train_test_split(X, y, random_state = 0)"
   ]
  },
  {
   "cell_type": "code",
   "execution_count": 20,
   "id": "be8bc272",
   "metadata": {},
   "outputs": [
    {
     "data": {
      "text/plain": [
       "2197"
      ]
     },
     "execution_count": 20,
     "metadata": {},
     "output_type": "execute_result"
    }
   ],
   "source": [
    "len(train_X.index)"
   ]
  },
  {
   "cell_type": "code",
   "execution_count": 21,
   "id": "0882f0cb",
   "metadata": {},
   "outputs": [
    {
     "data": {
      "text/plain": [
       "733"
      ]
     },
     "execution_count": 21,
     "metadata": {},
     "output_type": "execute_result"
    }
   ],
   "source": [
    "len(val_X.index)"
   ]
  },
  {
   "cell_type": "markdown",
   "id": "8b2dd958",
   "metadata": {},
   "source": [
    "## Decision Tree: Specifying and fitting the model"
   ]
  },
  {
   "cell_type": "code",
   "execution_count": 22,
   "id": "bc6ce428",
   "metadata": {},
   "outputs": [],
   "source": [
    "# Using a utility fuction to help compare MAE scores \n",
    "# from diffrrent values for max_leaf_nodes\n",
    "\n",
    "from sklearn.metrics import mean_absolute_error\n",
    "from sklearn.model_selection import train_test_split\n",
    "from sklearn.tree import DecisionTreeRegressor\n",
    "\n",
    "\n",
    "def get_mae(max_leaf_nodes, train_X, val_X, train_y, val_y): \n",
    "    ames_model = DecisionTreeRegressor(max_leaf_nodes=max_leaf_nodes, random_state=0)\n",
    "    ames_model.fit(train_X, train_y)\n",
    "    predic_val = ames_model.predict(val_X)\n",
    "    mae = mean_absolute_error(val_y, predic_val)\n",
    "    return(mae)"
   ]
  },
  {
   "cell_type": "markdown",
   "id": "21cadea3",
   "metadata": {},
   "source": [
    "## Decision Tree: Finding the ideal tree size & Calculating MAE"
   ]
  },
  {
   "cell_type": "code",
   "execution_count": 23,
   "id": "2032cd07",
   "metadata": {},
   "outputs": [
    {
     "name": "stdout",
     "output_type": "stream",
     "text": [
      "Max leaf nodes: 250      23058.12401227185\n",
      "Max leaf nodes: 300      22826.151173675593\n",
      "Max leaf nodes: 325      22772.961590200102\n",
      "Max leaf nodes: 350      22707.60274679008\n",
      "Max leaf nodes: 500      23033.978473448275\n",
      "Max leaf nodes: 550      23333.833438061483\n",
      "Max leaf nodes: 600      23389.553871185624\n"
     ]
    }
   ],
   "source": [
    "# Writing a loop to find the ideal tree size from candidate_max_leaf_nodes\n",
    "candidate_max_leaf_nodes = [250, 300, 325, 350, 500, 550, 600]\n",
    "\n",
    "for leaf_size in candidate_max_leaf_nodes:\n",
    "        print(\"Max leaf nodes:\", leaf_size, \"    \", get_mae(leaf_size, train_X, val_X, train_y, val_y))"
   ]
  },
  {
   "cell_type": "code",
   "execution_count": 24,
   "id": "ebaba17c",
   "metadata": {},
   "outputs": [
    {
     "data": {
      "text/plain": [
       "DecisionTreeRegressor(max_leaf_nodes=350, random_state=1)"
      ]
     },
     "execution_count": 24,
     "metadata": {},
     "output_type": "execute_result"
    }
   ],
   "source": [
    "# Final Model \n",
    "\n",
    "best_leaf_node = 350\n",
    "final_model = DecisionTreeRegressor(max_leaf_nodes= best_leaf_node, random_state=1)\n",
    "final_model.fit(X, y)"
   ]
  },
  {
   "cell_type": "markdown",
   "id": "8d0de3f3",
   "metadata": {},
   "source": [
    "## Random Forest: Specifying and fitting the model"
   ]
  },
  {
   "cell_type": "code",
   "execution_count": 25,
   "id": "ae6b1251",
   "metadata": {},
   "outputs": [
    {
     "data": {
      "text/plain": [
       "RandomForestRegressor(random_state=1)"
      ]
     },
     "execution_count": 25,
     "metadata": {},
     "output_type": "execute_result"
    }
   ],
   "source": [
    "from sklearn.ensemble import RandomForestRegressor\n",
    "\n",
    "# Defining the model \n",
    "rf_model = RandomForestRegressor(random_state=1)\n",
    "\n",
    "# Fitting the model \n",
    "rf_model.fit(train_X, train_y)"
   ]
  },
  {
   "cell_type": "markdown",
   "id": "7b474872",
   "metadata": {},
   "source": [
    "## Random Forest: Calculating MAE on the validation data"
   ]
  },
  {
   "cell_type": "code",
   "execution_count": 26,
   "id": "818460fb",
   "metadata": {},
   "outputs": [
    {
     "name": "stdout",
     "output_type": "stream",
     "text": [
      "19092.483866562725\n"
     ]
    }
   ],
   "source": [
    "predic_val = rf_model.predict(val_X)\n",
    "rf_val_mae = mean_absolute_error(val_y, predic_val)\n",
    "\n",
    "print(rf_val_mae)"
   ]
  },
  {
   "cell_type": "markdown",
   "id": "c64e7af0",
   "metadata": {},
   "source": [
    "#### Conclusion: Random forest model provided lower MAE (19,092) than the Decision Tree Model did (MAE=  22,707)."
   ]
  }
 ],
 "metadata": {
  "kernelspec": {
   "display_name": "myenv2",
   "language": "python",
   "name": "myenv2"
  },
  "language_info": {
   "codemirror_mode": {
    "name": "ipython",
    "version": 3
   },
   "file_extension": ".py",
   "mimetype": "text/x-python",
   "name": "python",
   "nbconvert_exporter": "python",
   "pygments_lexer": "ipython3",
   "version": "3.7.9"
  }
 },
 "nbformat": 4,
 "nbformat_minor": 5
}
